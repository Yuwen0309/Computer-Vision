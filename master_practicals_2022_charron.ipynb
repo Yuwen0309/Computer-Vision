{
 "cells": [
  {
   "cell_type": "markdown",
   "metadata": {
    "id": "VgaT_uulylwz"
   },
   "source": [
    "# Master practicals : activation fMRI data analysis\n",
    "Monday October 26 2022 \n",
    "Sylvain Charron  \n",
    "sylvain.charron@polytechnique.edu\n",
    "___\n",
    "Please write your name bellow  \n",
    "name 1: sylvain CHARRON\n"
   ]
  },
  {
   "cell_type": "markdown",
   "metadata": {
    "id": "_g8qNI6tylw2"
   },
   "source": [
    "### <a href='#Introduction'>0. Introduction</a> ###\n",
    "\n",
    "### <a href='#WhydowedofMRI'>1. Why do we do functional MRI ?</a> ###\n",
    "\n",
    "### <a href='#Analysisprinciple'>2. Analysis principle</a> ###\n",
    "\n",
    "### <a href='#fMRIdata'>3. fMRI raw data</a> ###\n",
    "\n",
    "### <a href='#Bloc'>4. Analysis of a bloc Paradigm</a> ###"
   ]
  },
  {
   "cell_type": "markdown",
   "metadata": {
    "id": "cP8FFk2bylw3"
   },
   "source": [
    "## 0. Introduction"
   ]
  },
  {
   "cell_type": "markdown",
   "metadata": {
    "id": "QDH6Ai3uylw5"
   },
   "source": [
    "The purpose of this practical is for you to learn about fMRI data analysis by playing with some little code in Python.\n",
    "\n",
    "At first, the code is already written in this notebook executable cells, you will have to modify some parameters and look at the output. Then you will start using tutorial notebooks from [**niLearn**](https://nilearn.github.io/stable/index.html), a pyhton module dedicated to neuroimaging data analysis.\n",
    "\n",
    "Even if you never used Python, you should be able to adapt what you already learned in other programming language, using concepts such as index and variables.\n",
    "\n",
    "I will answer your questions during the practicals.\n",
    "\n"
   ]
  },
  {
   "cell_type": "markdown",
   "metadata": {
    "id": "bdamNJNlylw6"
   },
   "source": [
    "### Getting started\n",
    "For this practical session, we will use google colab to work on a python notebook. Please follow **very carefully** the steps described bellow to prepare your session."
   ]
  },
  {
   "cell_type": "markdown",
   "metadata": {
    "id": "u_aBSVwi3cUm"
   },
   "source": [
    "In order to present some properties of fMRI data, I will use the software mango\n",
    "http://ric.uthscsa.edu/mango/mango.html  \n",
    "You don't have to use it yourself."
   ]
  },
  {
   "cell_type": "markdown",
   "metadata": {
    "id": "HMdEoEduylxD"
   },
   "source": [
    "#### 0.0 document and data\n",
    "You must have already downloaded the data and documents from the provided link. If not, do it now.  \n",
    "Please rename the document `master_praticals_2022_charron.ipynb` using you name instead of mine."
   ]
  },
  {
   "cell_type": "markdown",
   "metadata": {
    "id": "fOvedeUfylxF"
   },
   "source": [
    "#### 0.1 open the notebook\n",
    "Connect to [google colab](https://colab.research.google.com) (create a google account if needed).  \n",
    "To open the notebook `master_praticals_2022_yourname.ipynb`, click on **import** then select this notebook and open it."
   ]
  },
  {
   "cell_type": "markdown",
   "metadata": {},
   "source": [
    "#### 0.2 using a notebook\n",
    "In a code cell, you can modify some code or write your own, then execute it using the `run` button on the action bar on top of the notebook.\n",
    "\n",
    "In a text cell, you can write down your notes and comments. To make a text cell, you have to create a cell, then select in the middle of the toolbar on top of your screen the `Markdown` type instead of the `Code` type.\n",
    "\n",
    "Both the comments and the code will constitute the practicals document you have to send me at the end of the lecture. So, start by writing your name instead of mine in the first cell."
   ]
  },
  {
   "cell_type": "markdown",
   "metadata": {
    "id": "MeQsqKn5ylxG"
   },
   "source": [
    "#### 0.2 install the Statistics for NeuroImaging in Python module (nilearn)\n"
   ]
  },
  {
   "cell_type": "code",
   "execution_count": 13,
   "metadata": {
    "colab": {
     "base_uri": "https://localhost:8080/"
    },
    "collapsed": false,
    "id": "6c36c3KhzgvL",
    "outputId": "cea602cf-3d3f-4ae0-f840-0ca27bafb161"
   },
   "outputs": [
    {
     "name": "stdout",
     "output_type": "stream",
     "text": [
      "Collecting nilearn\n",
      "  Downloading nilearn-0.8.1-py3-none-any.whl (10.0 MB)\n",
      "\u001b[K     |████████████████████████████████| 10.0 MB 4.4 MB/s \n",
      "\u001b[?25hRequirement already satisfied: nibabel>=2.5 in /usr/local/lib/python3.7/dist-packages (from nilearn) (3.0.2)\n",
      "Requirement already satisfied: numpy>=1.16 in /usr/local/lib/python3.7/dist-packages (from nilearn) (1.19.5)\n",
      "Requirement already satisfied: joblib>=0.12 in /usr/local/lib/python3.7/dist-packages (from nilearn) (1.0.1)\n",
      "Requirement already satisfied: pandas>=0.24.0 in /usr/local/lib/python3.7/dist-packages (from nilearn) (1.1.5)\n",
      "Requirement already satisfied: scipy>=1.2 in /usr/local/lib/python3.7/dist-packages (from nilearn) (1.4.1)\n",
      "Requirement already satisfied: scikit-learn>=0.21 in /usr/local/lib/python3.7/dist-packages (from nilearn) (0.22.2.post1)\n",
      "Requirement already satisfied: requests>=2 in /usr/local/lib/python3.7/dist-packages (from nilearn) (2.23.0)\n",
      "Requirement already satisfied: python-dateutil>=2.7.3 in /usr/local/lib/python3.7/dist-packages (from pandas>=0.24.0->nilearn) (2.8.2)\n",
      "Requirement already satisfied: pytz>=2017.2 in /usr/local/lib/python3.7/dist-packages (from pandas>=0.24.0->nilearn) (2018.9)\n",
      "Requirement already satisfied: six>=1.5 in /usr/local/lib/python3.7/dist-packages (from python-dateutil>=2.7.3->pandas>=0.24.0->nilearn) (1.15.0)\n",
      "Requirement already satisfied: urllib3!=1.25.0,!=1.25.1,<1.26,>=1.21.1 in /usr/local/lib/python3.7/dist-packages (from requests>=2->nilearn) (1.24.3)\n",
      "Requirement already satisfied: idna<3,>=2.5 in /usr/local/lib/python3.7/dist-packages (from requests>=2->nilearn) (2.10)\n",
      "Requirement already satisfied: chardet<4,>=3.0.2 in /usr/local/lib/python3.7/dist-packages (from requests>=2->nilearn) (3.0.4)\n",
      "Requirement already satisfied: certifi>=2017.4.17 in /usr/local/lib/python3.7/dist-packages (from requests>=2->nilearn) (2021.5.30)\n",
      "Installing collected packages: nilearn\n",
      "Successfully installed nilearn-0.8.1\n"
     ]
    }
   ],
   "source": [
    "!pip install nilearn"
   ]
  },
  {
   "cell_type": "markdown",
   "metadata": {
    "id": "dNGvxhSuylxH"
   },
   "source": [
    "#### 0.3 check your access to nilearn and other modules\n",
    "Verify that importing the module does not generate errors."
   ]
  },
  {
   "cell_type": "code",
   "execution_count": 14,
   "metadata": {
    "collapsed": true,
    "id": "xmtX7V-v0hLK"
   },
   "outputs": [],
   "source": [
    "import nilearn"
   ]
  },
  {
   "cell_type": "code",
   "execution_count": 15,
   "metadata": {
    "collapsed": true,
    "id": "N5Iedun891IH"
   },
   "outputs": [],
   "source": [
    "import numpy as np"
   ]
  },
  {
   "cell_type": "code",
   "execution_count": 16,
   "metadata": {
    "collapsed": true,
    "id": "Yj9cyQGx_kOr"
   },
   "outputs": [],
   "source": [
    "import matplotlib.pyplot as plt"
   ]
  },
  {
   "cell_type": "code",
   "execution_count": 35,
   "metadata": {
    "collapsed": true,
    "id": "NIKEJWmPGjoa"
   },
   "outputs": [],
   "source": [
    "import nibabel as nib"
   ]
  },
  {
   "cell_type": "markdown",
   "metadata": {
    "id": "WB_Gfx8x3cfo"
   },
   "source": [
    "#### 0.4 get access to time fMRI image files\n",
    "\n",
    "Use the **file** button on the left column to import the three .nii files\n"
   ]
  },
  {
   "cell_type": "markdown",
   "metadata": {
    "id": "pPGkzj68ylxL"
   },
   "source": [
    "## 1. Why do we do functional MRI ?"
   ]
  },
  {
   "cell_type": "markdown",
   "metadata": {
    "id": "hQjPug3zylxM"
   },
   "source": [
    "### Main goal\n",
    "Activation fMRI is mostly used for detect the location of cognitive functions, under the hypothesis of functional specialization of brain areas.\n",
    "\n",
    "To do so, the experimenter imposes on the subject a temporal variation related to the target process and looks for whichever part of the brain displays a signal in which a similar enough variation could be found.\n",
    "\n",
    "The measurement is called the BOLD (Blood Oxygenen Level Dependent) signal, the temporal variations are implemented in an experimental design, usually contrasting 2 or more conditions under the \"pure insertion\" hypothesis (similar to \"ceteris paribus\").\n",
    "\n",
    "Other uses of fMRI:\n",
    "- resting state\n",
    "- connectivity"
   ]
  },
  {
   "cell_type": "markdown",
   "metadata": {
    "id": "n8BEw8F6ylxR"
   },
   "source": [
    "### Clinical purpose"
   ]
  },
  {
   "cell_type": "markdown",
   "metadata": {
    "id": "TiLry7hhylxS"
   },
   "source": [
    "#### Question 0: List some clinical applications of functional MRI."
   ]
  },
  {
   "cell_type": "markdown",
   "metadata": {
    "id": "ByMCQ57YylxT"
   },
   "source": [
    "_Write down your answer in this Markdown cell_"
   ]
  },
  {
   "cell_type": "markdown",
   "metadata": {
    "id": "hgy6rPNrylxU"
   },
   "source": [
    "## 2. Analysis Principle\n",
    "In a typical experiment, we imposes on the subject 2 conditions, one that targets specifically a cognitive process and a control condition.\n",
    "In each voxel, the time series of measurements is fitted one a linear model describing the conditions and potential confounds."
   ]
  },
  {
   "cell_type": "markdown",
   "metadata": {
    "id": "6LuYfRFXylxU"
   },
   "source": [
    "### 2.0 Preprocessing\n",
    "As usual, before any analysis, preprocessing of data is required:\n",
    "1. Spatial processing to take into account head movements and inter subject anatomical variability\n",
    "2. Spatial Filtering\n",
    " - for SNR purpose\n",
    " - for the biological properties of the data\n",
    " - because the data have been modified due to the spatial processing\n",
    " - in order to assess good statistical properties for the data to be processed with inferential statistical models\n",
    "3. Frequency Filtering\n",
    "4. Temporal processing (e.g. whitening)"
   ]
  },
  {
   "cell_type": "markdown",
   "metadata": {
    "id": "NydX5bNAylxV"
   },
   "source": [
    "### 2.1 Linear multiple regression model\n",
    "$$\\Large Y = \\beta X + \\epsilon$$\n",
    "In each voxel, the data $\\Large Y$ is fitted on a linear model $\\Large X$ and the regression coefficients are computed in order to minimize the residual error $\\Large \\epsilon$.\n",
    "\n",
    "$\\Large X$ is a matrix of **regressors $\\Large X_i$**, each describing a modulation that is supposed to participate to the variance of the signal.\n",
    "\n",
    "$\\Large X$ is made of regressors of interest that model exprimental conditions, and nuisance regressors that model confounds.\n",
    "\n",
    "One of the most important part of activation fMRI analysis is to build a linear model $\\Large X$ consistent with the experimental paradigm, your hypothesis and the statistical comparisons."
   ]
  },
  {
   "cell_type": "markdown",
   "metadata": {
    "id": "Tx5lXLaiylxW"
   },
   "source": [
    "###2.2 Statistical detection of \"activated\" voxels\n",
    "Each $\\Large \\beta_i$ describe how much a regressor contributes to the signal, i.e. how much the signal in the voxel changes relatively to the modulation induced by the difference between the experimental conditions (in easy cases: Test vs. Control).\n",
    "\n",
    "An \"activation map\" is made of voxels that actually display a high enough contrast between conditions, here statistical procedures are required.\n",
    "\n",
    "Basically, the activation map shows the voxels surviving a threshold applied on a linear combination (a \"contrast\") of images made out of the $\\Large \\beta_i$."
   ]
  },
  {
   "cell_type": "markdown",
   "metadata": {
    "id": "Ox0Sn41oylxX"
   },
   "source": [
    "### 2.3 Further analysis\n",
    "\n",
    "Extraction of signal or statistical properties fom a Region of Interest.\n",
    "Correlation between activations and behavioral data.\n",
    "Functionnal connectivity.\n",
    "..."
   ]
  },
  {
   "cell_type": "markdown",
   "metadata": {
    "id": "xh4QtuCQylxX"
   },
   "source": [
    "## 3. fMRI raw data"
   ]
  },
  {
   "cell_type": "markdown",
   "metadata": {
    "id": "vNbnBKB_ylxY"
   },
   "source": [
    "### The analysis requires:\n",
    "- the time series of BOLD signal\n",
    "- the time series of what happened to the subject\n",
    "- both to be synchronized!\n",
    "\n",
    "### Thus, a typical activation dataset is made of :\n",
    "\n",
    "- a description of the experimental paradigm with precise timing information.\n",
    "\n",
    "- functional MRI data: either a 4D image containing a time series of MRI volumes or a series of 3D volumes temporally organized.\n",
    "\n",
    "- a structural image: a high resolution anatomical scan used for preprocessing and localization of activations.\n",
    "\n",
    "- additionally, you might get images for artefact removals purpose (B0 maps).\n",
    "\n",
    "See the organization of files at the [Brain Imaging Data Structure project](http://bids.neuroimaging.io/)."
   ]
  },
  {
   "cell_type": "markdown",
   "metadata": {
    "id": "qxjFPC2AylxY"
   },
   "source": [
    "### 3.0. fMRI stimulation data"
   ]
  },
  {
   "cell_type": "markdown",
   "metadata": {
    "id": "QEFtOktVylxY"
   },
   "source": [
    "The experimental paradigm has to be described as a time series of conditions. Depending on the software you will us, the exact form varies.\n",
    "\n",
    "#### [FMRIB Software Library (FSL)]()\n",
    "cf [FEAT documentation](http://fsl.fmrib.ox.ac.uk/fsl/fslwiki/FEAT/UserGuide#FILM_General_Linear_Model)\n",
    "\n",
    "One text file where each entry (separated with comma or newline) represents a volume and the presenc eof the condition is notes with 0 (absent) or 1(present) or any number if magnitude is required.\n",
    "Or one text file per regressor, with 3 columns:\n",
    "1. Starting second\n",
    "2. Duration of block/event (in seconds)\n",
    "3. Magnitude of regressor\n",
    "\n",
    "#### [Statistical Parametric Mapping (SPM)](http://www.fil.ion.ucl.ac.uk/spm/)\n",
    "A matlab structure with fields describing the type of regressor, its name, the onsets, durations et parametric modulation if needed.\n",
    "\n",
    "#### [Statistics for NeuroImaging in Python (Nilearn)](https://nilearn.github.io/stable/index.html)\n",
    "cf [nilearn documentation](https://nilearn.github.io/stable/modules/generated/nilearn.glm.first_level.compute_regressor.html)\n",
    "\n",
    "array-like of shape (3, n_events) yields description of events for this condition as a (onsets, durations, amplitudes) triplet\n",
    "\n"
   ]
  },
  {
   "cell_type": "markdown",
   "metadata": {
    "id": "mPZ6u-oiylxZ"
   },
   "source": [
    "### 3.1 Describe an actual paradigm"
   ]
  },
  {
   "cell_type": "markdown",
   "metadata": {
    "id": "1gkDBnUDylxZ"
   },
   "source": [
    "The description of this classical auditory stimulation dataset comes from the SPM manual:\n",
    ">This data set comprises whole brain BOLD/EPI images acquired on a\n",
    "modified 2T Siemens MAGNETOM Vision system. Each acquisition consisted\n",
    "of 64 contiguous slices (64×64×64 3×3mm×3 mm3 voxels). Acquisition took\n",
    "6.05s, with the scan to scan repeat time (TR) set arbitrarily to 7s.\n",
    "96 acquisitions were made (TR=7s) from a single subject, in blocks of 6,\n",
    "giving 16 42s blocks. The condition for successive blocks alternated\n",
    "between rest and auditory stimulation, starting with rest. Auditory\n",
    "stimulation was bi-syllabic words presented binaurally at a rate of 60\n",
    "per minute. The functional data starts at acquisition 4"
   ]
  },
  {
   "cell_type": "markdown",
   "metadata": {
    "id": "zjdZJLJPylxa"
   },
   "source": [
    ">To avoid T1 effects in the initial scans of an fMRI time series we\n",
    "recommend discarding the first few scans. To make this example simple,\n",
    "we’ll discard the first complete cycle (12 scans, 04-15), leaving 84\n",
    "scans, image files 16-99."
   ]
  },
  {
   "cell_type": "markdown",
   "metadata": {
    "id": "mH0xi5Qdylxb"
   },
   "source": [
    "#### Practice : try to decypher the description above in order to build an array with as much columns as you have periods of auditory stimulations and for each column, 3 lines, the first one being the time at which the stimulation begins, and the second one the duration of said stimulation. Amplitude can be set as 1.\n",
    "\n",
    "#### Question 1: Write this array in the following text cell"
   ]
  },
  {
   "cell_type": "code",
   "execution_count": null,
   "metadata": {
    "collapsed": true,
    "id": "Xy1SK1FMyNYT"
   },
   "outputs": [],
   "source": []
  },
  {
   "cell_type": "markdown",
   "metadata": {
    "id": "5Z_OgBZoylxc"
   },
   "source": [
    "_Write down your comments in a **text cell** like this one_"
   ]
  },
  {
   "cell_type": "code",
   "execution_count": 17,
   "metadata": {
    "colab": {
     "base_uri": "https://localhost:8080/"
    },
    "collapsed": false,
    "id": "Smyuv3JMylxf",
    "outputId": "bd669073-5083-429d-a402-243023ee65c8"
   },
   "outputs": [
    {
     "data": {
      "text/plain": [
       "2"
      ]
     },
     "execution_count": 17,
     "metadata": {},
     "output_type": "execute_result"
    }
   ],
   "source": [
    "# You can use python to do calculations\n",
    "1+1"
   ]
  },
  {
   "cell_type": "code",
   "execution_count": 18,
   "metadata": {
    "colab": {
     "base_uri": "https://localhost:8080/"
    },
    "collapsed": false,
    "id": "AvpoPyOTylxl",
    "outputId": "e4c1e368-2d19-4194-dee3-60e448379dd6"
   },
   "outputs": [
    {
     "data": {
      "text/plain": [
       "12"
      ]
     },
     "execution_count": 18,
     "metadata": {},
     "output_type": "execute_result"
    }
   ],
   "source": [
    "3*4"
   ]
  },
  {
   "cell_type": "markdown",
   "metadata": {
    "id": "iI_G84v5ylxr"
   },
   "source": [
    "### 3.2. Convolution with the Haemodynamic Response Function (HRF)\n",
    "____\n",
    "Since the BOLD signal is delayed relatively to the neural activity, the events stored in the paradigm descriptions are not accurately synchronous with the recorded signal. The the Haemodynamic Response Function is the transfer function that describe the recorded answer to a single event. Thus, through a convolution, you can predict the evolution of the BOLD signal from the time series of cerebral events you expect your paradigm to elicit."
   ]
  },
  {
   "cell_type": "markdown",
   "metadata": {
    "id": "KKiTPTxkylxr"
   },
   "source": [
    "Let's use python to look at the shape of this transfer function !  \n",
    "(slightly adapted from https://nilearn.github.io/stable/auto_examples/04_glm_first_level/plot_hrf.html#sphx-glr-auto-examples-04-glm-first-level-plot-hrf-py)"
   ]
  },
  {
   "cell_type": "code",
   "execution_count": 20,
   "metadata": {
    "colab": {
     "base_uri": "https://localhost:8080/",
     "height": 297
    },
    "collapsed": false,
    "id": "leE3nNkeAChP",
    "outputId": "460e629a-b656-4c15-eb63-81ac44d43000"
   },
   "outputs": [
    {
     "data": {
      "image/png": "[encoded data removed]",
      "text/plain": [
       "<Figure size 648x288 with 2 Axes>"
      ]
     },
     "metadata": {
      "needs_background": "light"
     },
     "output_type": "display_data"
    }
   ],
   "source": [
    "frame_times = np.linspace(0, 30, 61)\n",
    "onset, amplitude, duration = 0., 1., 1.\n",
    "exp_condition = np.array((onset, duration, amplitude)).reshape(3, 1)\n",
    "\n",
    "stim = np.zeros_like(frame_times)\n",
    "stim[(frame_times > onset) * (frame_times <= onset + duration)] = amplitude\n",
    "\n",
    "hrf_models = ['spm', 'glover']\n",
    "\n",
    "\n",
    "from nilearn.glm.first_level import compute_regressor\n",
    "\n",
    "fig = plt.figure(figsize=(9, 4))\n",
    "for i, hrf_model in enumerate(hrf_models):\n",
    "    # obtain the signal of interest by convolution\n",
    "    signal, name = compute_regressor(\n",
    "        exp_condition, hrf_model, frame_times, con_id='main',\n",
    "        oversampling=16)\n",
    "\n",
    "    # plot this\n",
    "    plt.subplot(1, 4, i + 1)\n",
    "    plt.fill(frame_times, stim, 'k', alpha=.5, label='stimulus')\n",
    "    for j in range(signal.shape[1]):\n",
    "        plt.plot(frame_times, signal.T[j], label=name[j])\n",
    "    plt.xlabel('time (s)')\n",
    "    plt.legend(loc=1)\n",
    "    plt.title(hrf_model)\n",
    "\n",
    "# adjust the plot\n",
    "plt.subplots_adjust(bottom=.12)\n",
    "plt.show()"
   ]
  },
  {
   "cell_type": "code",
   "execution_count": 23,
   "metadata": {
    "colab": {
     "base_uri": "https://localhost:8080/",
     "height": 295
    },
    "collapsed": false,
    "id": "KP5SDPLDylxz",
    "outputId": "ee3ebb93-9a0d-49f1-e4a0-436884cece34"
   },
   "outputs": [
    {
     "data": {
      "image/png": "[encoded data removed]",
      "text/plain": [
       "<Figure size 648x288 with 1 Axes>"
      ]
     },
     "metadata": {
      "needs_background": "light"
     },
     "output_type": "display_data"
    }
   ],
   "source": [
    "# Let's use the spm HRF as to plot the BOLD signal of a single phasic cerebral event\n",
    "frame_times = np.linspace(0,100,101)\n",
    "\n",
    "onset = np.array([0])\n",
    "amplitude = np.array([1])\n",
    "duration = np.array([1])\n",
    "\n",
    "stim = np.zeros_like(frame_times)\n",
    "\n",
    "for i in range(onset.shape[0]):\n",
    "  stim[(frame_times > onset[i]) * (frame_times <= onset[i] + duration[i])] = amplitude[i]\n",
    "\n",
    "hrf_model = 'spm'\n",
    "\n",
    "# obtain the signal of interest by convolution\n",
    "exp_condition = np.array((onset, duration, amplitude)).reshape(3, 1)\n",
    "signal, name = compute_regressor(\n",
    "    exp_condition, hrf_model, frame_times, con_id='main', oversampling=16)\n",
    "\n",
    "# plot this\n",
    "fig = plt.figure(figsize=(9, 4))\n",
    "plt.fill(frame_times, stim, 'k', alpha=.5, label='stimulus')\n",
    "\n",
    "plt.plot(frame_times, signal, label='BOLD signal')\n",
    "\n",
    "plt.axhline(y=0, color='k')\n",
    "plt.xlabel('time (s)')\n",
    "plt.legend(loc=1)\n",
    "plt.title(hrf_model)\n",
    "\n",
    "# show the plot\n",
    "plt.show()"
   ]
  },
  {
   "cell_type": "code",
   "execution_count": 24,
   "metadata": {
    "colab": {
     "base_uri": "https://localhost:8080/",
     "height": 295
    },
    "collapsed": false,
    "id": "SlUBgmNSylx2",
    "outputId": "a663ee3a-e247-44cf-e48b-2447cada1040"
   },
   "outputs": [
    {
     "data": {
      "image/png": "[encoded data removed]",
      "text/plain": [
       "<Figure size 648x288 with 1 Axes>"
      ]
     },
     "metadata": {
      "needs_background": "light"
     },
     "output_type": "display_data"
    }
   ],
   "source": [
    "# now, let's add another single phasic cerebral activity\n",
    "frame_times = np.linspace(0,100,101)\n",
    "\n",
    "onset = np.array([0, 50])\n",
    "amplitude = np.array([1, 1])\n",
    "duration = np.array([1,1])\n",
    "\n",
    "stim = np.zeros_like(frame_times)\n",
    "\n",
    "for i in range(onset.shape[0]):\n",
    "  stim[(frame_times > onset[i]) * (frame_times <= onset[i] + duration[i])] = amplitude[i]\n",
    "\n",
    "hrf_model = 'spm'\n",
    "\n",
    "from nilearn.glm.first_level import compute_regressor\n",
    "import matplotlib.pyplot as plt\n",
    "\n",
    "# obtain the signal of interest by convolution\n",
    "exp_condition = np.array((onset, duration, amplitude)).reshape(3, 2)\n",
    "signal, name = compute_regressor(\n",
    "    exp_condition, hrf_model, frame_times, con_id='main', oversampling=16)\n",
    "\n",
    "# plot this\n",
    "fig = plt.figure(figsize=(9, 4))\n",
    "plt.fill(frame_times, stim, 'k', alpha=.5, label='stimulus')\n",
    "\n",
    "plt.plot(frame_times, signal, label='BOLD signal')\n",
    "\n",
    "plt.axhline(y=0, color='k')\n",
    "plt.xlabel('time (s)')\n",
    "plt.legend(loc=1)\n",
    "plt.title(hrf_model)\n",
    "\n",
    "# show the plot\n",
    "plt.show()"
   ]
  },
  {
   "cell_type": "code",
   "execution_count": 25,
   "metadata": {
    "colab": {
     "base_uri": "https://localhost:8080/",
     "height": 295
    },
    "collapsed": false,
    "id": "zAksCgGSylx4",
    "outputId": "97eb9183-1f74-4e4b-e9b6-71ca3b848bd4"
   },
   "outputs": [
    {
     "data": {
      "image/png": "[encoded data removed]",
      "text/plain": [
       "<Figure size 648x288 with 1 Axes>"
      ]
     },
     "metadata": {
      "needs_background": "light"
     },
     "output_type": "display_data"
    }
   ],
   "source": [
    "# now, let's see what happens to a sustained cerebral activity\n",
    "frame_times = np.linspace(0,100,101)\n",
    "\n",
    "onset = np.array([0])\n",
    "amplitude = np.array([1])\n",
    "duration = np.array([50])\n",
    "\n",
    "stim = np.zeros_like(frame_times)\n",
    "\n",
    "for i in range(onset.shape[0]):\n",
    "  stim[(frame_times > onset[i]) * (frame_times <= onset[i] + duration[i])] = amplitude[i]\n",
    "\n",
    "hrf_model = 'spm'\n",
    "\n",
    "# obtain the signal of interest by convolution\n",
    "exp_condition = np.array((onset, duration, amplitude)).reshape(3, 1)\n",
    "signal, name = compute_regressor(\n",
    "    exp_condition, hrf_model, frame_times, con_id='main', oversampling=16)\n",
    "\n",
    "# plot this\n",
    "fig = plt.figure(figsize=(9, 4))\n",
    "plt.fill(frame_times, stim, 'k', alpha=.5, label='stimulus')\n",
    "\n",
    "plt.plot(frame_times, signal, label='BOLD signal')\n",
    "\n",
    "plt.axhline(y=0, color='k')\n",
    "plt.xlabel('time (s)')\n",
    "plt.legend(loc=1)\n",
    "plt.title(hrf_model)\n",
    "\n",
    "# show the plot\n",
    "plt.show()"
   ]
  },
  {
   "cell_type": "markdown",
   "metadata": {
    "id": "UjqgojT4ylx7"
   },
   "source": [
    "#### Practice: Explore the properties of the convolved signal:\n",
    "1. copy paste the code in a new code cell (use the **Insert** menu, then **cell below**)\n",
    "2. change appropriate parameters and look at the result\n",
    "3. answer the following question"
   ]
  },
  {
   "cell_type": "markdown",
   "metadata": {
    "id": "W2WgtC4pylx8"
   },
   "source": [
    "#### Question 2: use variations of the above code in order to explain why it would be impossible to discreminate close events"
   ]
  },
  {
   "cell_type": "code",
   "execution_count": null,
   "metadata": {
    "collapsed": true,
    "id": "_NgmGDxVylx8"
   },
   "outputs": [],
   "source": [
    "# use a code cell to show the code that would generate good explanatory graphs"
   ]
  },
  {
   "cell_type": "markdown",
   "metadata": {
    "id": "Xfw-UY48ylyF"
   },
   "source": [
    "Then use a text cell to explain your approach and your interpretation"
   ]
  },
  {
   "cell_type": "markdown",
   "metadata": {
    "id": "QBc0jIL5ylyG"
   },
   "source": [
    "*texte en italique*###3.3 MRI raw images"
   ]
  },
  {
   "cell_type": "markdown",
   "metadata": {
    "id": "fsgUBs9aylyG"
   },
   "source": [
    "The following code defines the variable data1_dirname which holds the path to this directory"
   ]
  },
  {
   "cell_type": "code",
   "execution_count": 32,
   "metadata": {
    "colab": {
     "base_uri": "https://localhost:8080/"
    },
    "collapsed": false,
    "id": "GuDCTaWGylyI",
    "outputId": "568f5a60-e56b-4d8e-8596-22f64b5db8c9"
   },
   "outputs": [
    {
     "name": "stdout",
     "output_type": "stream",
     "text": [
      "/content\n"
     ]
    }
   ],
   "source": [
    "import os # to have access to commands of the operating system\n",
    "from os.path import join\n",
    "# select the path from the drive or uploaded folder, using icons on the left\n",
    "data1_dirname = '/content'\n",
    "# show the value stored in the variable\n",
    "# here a character string describing a path\n",
    "print(data1_dirname)"
   ]
  },
  {
   "cell_type": "markdown",
   "metadata": {
    "id": "PnWOM_sLylyL"
   },
   "source": [
    "Let's have a look at what's in this data folder:"
   ]
  },
  {
   "cell_type": "code",
   "execution_count": 33,
   "metadata": {
    "colab": {
     "base_uri": "https://localhost:8080/"
    },
    "collapsed": false,
    "id": "SveTVqGpylyM",
    "outputId": "3b9b782b-bc91-4127-b44e-509aab65c29c"
   },
   "outputs": [
    {
     "name": "stdout",
     "output_type": "stream",
     "text": [
      "['.config', 'sample_data', 'run.nii.gz', 'functional.nii.gz', 'structural.nii.gz', '.ipynb_checkpoints']\n"
     ]
    }
   ],
   "source": [
    "print(os.listdir(data1_dirname))"
   ]
  },
  {
   "cell_type": "markdown",
   "metadata": {
    "id": "Zb-NHt0qylyN"
   },
   "source": [
    "Now you can check the first image's dimensions and type using the **nibabel** module."
   ]
  },
  {
   "cell_type": "code",
   "execution_count": 36,
   "metadata": {
    "colab": {
     "base_uri": "https://localhost:8080/"
    },
    "collapsed": false,
    "id": "ytpn8KCTylyP",
    "outputId": "f03b0c85-f8de-4225-e824-89fb56144c2e"
   },
   "outputs": [
    {
     "name": "stdout",
     "output_type": "stream",
     "text": [
      "/content/structural.nii.gz\n"
     ]
    }
   ],
   "source": [
    "#first, lets store the path to the image in a variable\n",
    "anat_fname = join(data1_dirname,'structural.nii.gz')\n",
    "print(anat_fname)"
   ]
  },
  {
   "cell_type": "code",
   "execution_count": 37,
   "metadata": {
    "colab": {
     "base_uri": "https://localhost:8080/"
    },
    "collapsed": false,
    "id": "D1VhJqHUylyR",
    "outputId": "ce946b3a-8495-42f8-d0c2-dc45cae9c92b"
   },
   "outputs": [
    {
     "name": "stderr",
     "output_type": "stream",
     "text": [
      "/usr/local/lib/python3.7/dist-packages/ipykernel_launcher.py:3: DeprecationWarning: get_data() is deprecated in favor of get_fdata(), which has a more predictable return type. To obtain get_data() behavior going forward, use numpy.asanyarray(img.dataobj).\n",
      "\n",
      "* deprecated from version: 3.0\n",
      "* Will raise <class 'nibabel.deprecator.ExpiredDeprecationError'> as of version: 5.0\n",
      "  This is separate from the ipykernel package so we can avoid doing imports until\n"
     ]
    }
   ],
   "source": [
    "# then we laod the image using nibabel, and retrieve the data from the image\n",
    "img = nib.load(anat_fname)\n",
    "data_anat = img.get_data()"
   ]
  },
  {
   "cell_type": "code",
   "execution_count": 38,
   "metadata": {
    "colab": {
     "base_uri": "https://localhost:8080/"
    },
    "collapsed": false,
    "id": "zr9crbycylyT",
    "outputId": "d09103df-f6fd-46d7-e7a0-dc905da2a756"
   },
   "outputs": [
    {
     "name": "stdout",
     "output_type": "stream",
     "text": [
      "data type :  <class 'numpy.ndarray'>\n"
     ]
    }
   ],
   "source": [
    "# in order to understand what is the type of object in which the data is stored\n",
    "print(\"data type : \", type(data_anat))"
   ]
  },
  {
   "cell_type": "code",
   "execution_count": 39,
   "metadata": {
    "colab": {
     "base_uri": "https://localhost:8080/"
    },
    "collapsed": false,
    "id": "n5uwj9LmylyW",
    "outputId": "ed66574b-0950-4563-fd31-85bd67e4cd2b"
   },
   "outputs": [
    {
     "name": "stdout",
     "output_type": "stream",
     "text": [
      "image dimensions:  (256, 256, 54)\n"
     ]
    }
   ],
   "source": [
    "# these are the dimensions of this image\n",
    "print(\"image dimensions: \", data_anat.shape)"
   ]
  },
  {
   "cell_type": "markdown",
   "metadata": {
    "id": "ibQqP-w4ylyZ"
   },
   "source": [
    "'data_anat' is a 3D array where the three dimensions are the number of acquired voxels in the x, y and z orientations."
   ]
  },
  {
   "cell_type": "markdown",
   "metadata": {
    "id": "F1zwtpr-ylya"
   },
   "source": [
    "####Practice/Question 3: do the same for the other images, using similar code in code cells, then describe your observations in a text cell.\n"
   ]
  },
  {
   "cell_type": "code",
   "execution_count": null,
   "metadata": {
    "collapsed": true,
    "id": "KGKvw9Mwylya"
   },
   "outputs": [],
   "source": [
    "# put your code here"
   ]
  },
  {
   "cell_type": "markdown",
   "metadata": {
    "id": "yO69U7j-ylyc"
   },
   "source": [
    "_then your observations here_"
   ]
  },
  {
   "cell_type": "markdown",
   "metadata": {
    "id": "LCvehUo0ylyc"
   },
   "source": [
    "###3.4 fMRI raw images manipulation"
   ]
  },
  {
   "cell_type": "markdown",
   "metadata": {
    "id": "Pb84q12Bylyc"
   },
   "source": [
    "This is all nice and well, but you migh want to actually look at some images"
   ]
  },
  {
   "cell_type": "markdown",
   "metadata": {
    "id": "tcPubMUmylyd"
   },
   "source": [
    "The following code describe how to select a slice in a 3D image and display it"
   ]
  },
  {
   "cell_type": "code",
   "execution_count": 44,
   "metadata": {
    "colab": {
     "base_uri": "https://localhost:8080/"
    },
    "collapsed": false,
    "id": "wyVjbkfQylyd",
    "outputId": "6740ef87-8571-4902-d117-36dbc4dbfbe0"
   },
   "outputs": [
    {
     "name": "stdout",
     "output_type": "stream",
     "text": [
      "(256, 256)\n"
     ]
    }
   ],
   "source": [
    "# You can extract a slice (2D) using the dimensions of the np.array:\n",
    "slice_data = data_anat[:, :, 30]\n",
    "print(slice_data.shape)"
   ]
  },
  {
   "cell_type": "markdown",
   "metadata": {
    "id": "m8FmMfItylyg"
   },
   "source": [
    "You can visualize the corresponding slice in the first volume using [matplotlib](http://matplotlib.org/), in the following way :"
   ]
  },
  {
   "cell_type": "code",
   "execution_count": 45,
   "metadata": {
    "colab": {
     "base_uri": "https://localhost:8080/",
     "height": 282
    },
    "collapsed": false,
    "id": "BrBI6ELiylyg",
    "outputId": "42ba926f-8069-49eb-fb8a-5caa04a358c7"
   },
   "outputs": [
    {
     "data": {
      "text/plain": [
       "<matplotlib.image.AxesImage at 0x7f6eccd16110>"
      ]
     },
     "execution_count": 45,
     "metadata": {},
     "output_type": "execute_result"
    },
    {
     "data": {
      "image/png": "[encoded data removed]",
      "text/plain": [
       "<Figure size 432x288 with 1 Axes>"
      ]
     },
     "metadata": {
      "needs_background": "light"
     },
     "output_type": "display_data"
    }
   ],
   "source": [
    "plt.imshow(slice_data[:,:].T, cmap='gray', origin= 'lower')"
   ]
  },
  {
   "cell_type": "code",
   "execution_count": 46,
   "metadata": {
    "colab": {
     "base_uri": "https://localhost:8080/",
     "height": 138
    },
    "collapsed": false,
    "id": "9RQ7Mj8mylyj",
    "outputId": "910b5ede-c0b9-42ca-dfd9-4bbaa946ec70"
   },
   "outputs": [
    {
     "data": {
      "text/plain": [
       "<matplotlib.image.AxesImage at 0x7f6ec41b4ed0>"
      ]
     },
     "execution_count": 46,
     "metadata": {},
     "output_type": "execute_result"
    },
    {
     "data": {
      "image/png": "[encoded data removed]",
      "text/plain": [
       "<Figure size 432x288 with 4 Axes>"
      ]
     },
     "metadata": {
      "needs_background": "light"
     },
     "output_type": "display_data"
    }
   ],
   "source": [
    "plt.figure()\n",
    "plt.subplot(1,4,1)\n",
    "plt.imshow(data_anat[:, :, 10].T, cmap='gray', origin= 'lower')\n",
    "plt.subplot(1,4,2)\n",
    "plt.imshow(data_anat[:, :, 20].T, cmap='gray', origin= 'lower')\n",
    "plt.subplot(1,4,3)\n",
    "plt.imshow(data_anat[:, :, 30].T, cmap='gray', origin= 'lower')\n",
    "plt.subplot(1,4,4)\n",
    "plt.imshow(data_anat[:, :, 40].T, cmap='gray', origin= 'lower')"
   ]
  },
  {
   "cell_type": "markdown",
   "metadata": {
    "id": "pN2hGB_sylyi"
   },
   "source": [
    "#### Practice:\n",
    "1. Play a bit with the matplotlib **imshow** function and the images \n",
    "1. Try to dispay the functional and the structural images side to side.\n",
    "\n",
    "#### Question 4: Can you spot and explain some of the differences betweent these images?\n",
    "As usual, use code and text cells to leave your answers"
   ]
  },
  {
   "cell_type": "markdown",
   "metadata": {
    "id": "jMC9Iny0ylyk"
   },
   "source": [
    "#### Question 5: How would you plot the time course of the BOLD signal in a given voxel?\n",
    "Use code cells to display your code"
   ]
  },
  {
   "cell_type": "markdown",
   "metadata": {
    "id": "NJb3drYPylyn"
   },
   "source": [
    "_and text cells to explain how you proceeded_"
   ]
  },
  {
   "cell_type": "markdown",
   "metadata": {
    "id": "ly1xxf0lylyn"
   },
   "source": [
    "## 4. Analysis of a bloc paradigm"
   ]
  },
  {
   "cell_type": "markdown",
   "metadata": {
    "id": "J3c7iHyAylyn"
   },
   "source": [
    "The idea is to find voxels in which the regressor describing a condition has some effect on the BOLD signal. Each regressor is actually explaining a part of the variance in a Linear Model.\n",
    "____"
   ]
  },
  {
   "cell_type": "markdown",
   "metadata": {
    "id": "1ACiChxyylyn"
   },
   "source": [
    "### 4.0 Analysis of the auditory stimulation experiment\n",
    "\n",
    "Follow the tutorial\n",
    "https://nilearn.github.io/stable/auto_examples/plot_single_subject_single_run.html\n"
   ]
  },
  {
   "cell_type": "markdown",
   "metadata": {
    "id": "2eX6CWsrylyn"
   },
   "source": [
    "_you can use this text cell to take some notes while I explain what the script did_"
   ]
  },
  {
   "cell_type": "markdown",
   "metadata": {
    "id": "oCJkUOEQylyo"
   },
   "source": [
    "### 4.1 Analysis of a random model"
   ]
  },
  {
   "cell_type": "markdown",
   "metadata": {
    "id": "JFtMuiX9ylyo"
   },
   "source": [
    "#### Practice: Create your own events.tsv file, picking reasonable random values for onset, duration and trial_type, then run the model again.\n",
    "\n",
    "#### Question 6: What is your interpretation ?"
   ]
  },
  {
   "cell_type": "markdown",
   "metadata": {
    "id": "n-wXZlXFylyo"
   },
   "source": [
    "_write down your interpretations in this cell_"
   ]
  },
  {
   "cell_type": "markdown",
   "metadata": {
    "id": "_jGs6wdzylyo"
   },
   "source": [
    "### 4.2. Effect of preprocessing\n",
    "Preprocessing usually includes of the following steps:\n",
    "1. Interpolation after correction of movement effects\n",
    "2. Interpolation after spatial normalization (allows for comparison despite anatomical individual differences)\n",
    "3. Spatial smoothing using a gaussian kernel\n",
    "\n",
    "We will check the effect of the last step."
   ]
  },
  {
   "cell_type": "markdown",
   "metadata": {
    "id": "CQoB2dvYylyo"
   },
   "source": [
    "Here is what a 2D gaussian kernel looks like:"
   ]
  },
  {
   "cell_type": "code",
   "execution_count": null,
   "metadata": {
    "collapsed": false,
    "id": "ws04FD-Kylyp",
    "outputId": "dd1ed43c-d79a-4377-f5df-05ef86a2ec12"
   },
   "outputs": [
    {
     "data": {
      "text/plain": [
       "(-1, 1)"
      ]
     },
     "execution_count": 71,
     "metadata": {
      "tags": []
     },
     "output_type": "execute_result"
    },
    {
     "data": {
      "image/png": "[encoded data removed]",
      "text/plain": [
       "<matplotlib.figure.Figure at 0x7f0ad6b4a050>"
      ]
     },
     "metadata": {
      "tags": []
     },
     "output_type": "display_data"
    }
   ],
   "source": [
    "from matplotlib import cm\n",
    "from mpl_toolkits.mplot3d import axes3d\n",
    "fig = plt.figure()\n",
    "ax = fig.gca(projection='3d')\n",
    "\n",
    "X = np.arange(-4, 4, 0.1)\n",
    "Y = np.arange(-4, 4, 0.1)\n",
    "X, Y = np.meshgrid(X, Y)\n",
    "Z = np.exp(-0.5*(np.sqrt(X**2+Y**2)**2));\n",
    "\n",
    "ax.plot_surface(X, Y, Z, rstride=2, cstride=2, alpha=0.3)\n",
    "cset = ax.contour(X, Y, Z, zdir='z', offset=-1, cmap=cm.coolwarm)\n",
    "cset = ax.contour(X, Y, Z, zdir='x', offset=-4, cmap=cm.coolwarm)\n",
    "cset = ax.contour(X, Y, Z, zdir='y', offset=4, cmap=cm.coolwarm)\n",
    "\n",
    "ax.set_xlabel('X')\n",
    "ax.set_xlim(-4, 4)\n",
    "ax.set_ylabel('Y')\n",
    "ax.set_ylim(-4, 4)\n",
    "ax.set_zlabel('Z')\n",
    "ax.set_zlim(-1, 1)"
   ]
  },
  {
   "cell_type": "markdown",
   "metadata": {
    "id": "s9Y9dydTylyu"
   },
   "source": [
    "#### Practice / Question 7: Try the example on https://nilearn.github.io/auto_examples/plot_nilearn_101.html\n",
    "and write down your observations"
   ]
  },
  {
   "cell_type": "markdown",
   "metadata": {
    "id": "E0iztT23ylyv"
   },
   "source": [
    "_write down your interpretations in this cell_"
   ]
  },
  {
   "cell_type": "markdown",
   "metadata": {
    "id": "xZpjmMipylyv"
   },
   "source": [
    "#### Practice / Question 8: Generate 3 different smoothed images of the auditory temporal series data and apply to each the same model and threshold.\n",
    "Explain your approach then write down your observations"
   ]
  },
  {
   "cell_type": "markdown",
   "metadata": {
    "id": "EB2FTaevylyv"
   },
   "source": [
    "_write down your interpretations in this cell_"
   ]
  }
 ],
 "metadata": {
  "colab": {
   "collapsed_sections": [
    "hQjPug3zylxM",
    "6LuYfRFXylxU",
    "NydX5bNAylxV",
    "Tx5lXLaiylxW",
    "Ox0Sn41oylxX",
    "vNbnBKB_ylxY",
    "QEFtOktVylxY",
    "mH0xi5Qdylxb",
    "UjqgojT4ylx7",
    "W2WgtC4pylx8",
    "QBc0jIL5ylyG",
    "F1zwtpr-ylya",
    "JFtMuiX9ylyo",
    "xZpjmMipylyv"
   ],
   "name": "master_practicals_2021_charron.ipynb",
   "provenance": []
  },
  "kernelspec": {
   "display_name": "Python 2",
   "language": "python",
   "name": "python2"
  },
  "language_info": {
   "codemirror_mode": {
    "name": "ipython",
    "version": 2
   },
   "file_extension": ".py",
   "mimetype": "text/x-python",
   "name": "python",
   "nbconvert_exporter": "python",
   "pygments_lexer": "ipython2",
   "version": "2.7.12"
  }
 },
 "nbformat": 4,
 "nbformat_minor": 0
}
